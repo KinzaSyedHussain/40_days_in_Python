{
  "nbformat": 4,
  "nbformat_minor": 0,
  "metadata": {
    "colab": {
      "provenance": []
    },
    "kernelspec": {
      "name": "python3",
      "display_name": "Python 3"
    },
    "language_info": {
      "name": "python"
    }
  },
  "cells": [
    {
      "cell_type": "markdown",
      "source": [
        "# **Operetors**"
      ],
      "metadata": {
        "id": "zjCqxehgkYDC"
      }
    },
    {
      "cell_type": "code",
      "source": [
        "print(2+3)#Addition\n",
        "print(5-3)#Subtraction\n",
        "print(3*4)#Multiplicaio\n",
        "print(6/3)#Division\n",
        "print(6//3)#Division without float number"
      ],
      "metadata": {
        "colab": {
          "base_uri": "https://localhost:8080/"
        },
        "id": "j--lQ-3VjiUQ",
        "outputId": "0b897e48-392e-40c3-8848-fc46c4af399e"
      },
      "execution_count": 34,
      "outputs": [
        {
          "output_type": "stream",
          "name": "stdout",
          "text": [
            "5\n",
            "2\n",
            "12\n",
            "2.0\n",
            "2\n"
          ]
        }
      ]
    },
    {
      "cell_type": "code",
      "source": [
        "#PEMDAS (Parenthesis/Exponents/Multiply/Division/Addition/Subtraction)\n",
        "print(3**2/2*3/3+6-4)"
      ],
      "metadata": {
        "colab": {
          "base_uri": "https://localhost:8080/"
        },
        "id": "bb-aFu4zFYcS",
        "outputId": "456bdc0b-2670-4693-fbb2-2bcfc9125d1b"
      },
      "execution_count": 33,
      "outputs": [
        {
          "output_type": "stream",
          "name": "stdout",
          "text": [
            "6.5\n"
          ]
        }
      ]
    },
    {
      "cell_type": "markdown",
      "source": [
        "# **String**"
      ],
      "metadata": {
        "id": "mfxrJmXlk0MA"
      }
    },
    {
      "cell_type": "code",
      "source": [
        "print(\"Hello World\") #Greeting\n",
        "print('My name is Kinza') # My Name\n",
        "print('''I am a student of Computer Science ''') # Student\n",
        "#comments"
      ],
      "metadata": {
        "colab": {
          "base_uri": "https://localhost:8080/"
        },
        "id": "xS4YMFvlk51P",
        "outputId": "8a1e04b0-74b8-4293-82a7-af9887733a54"
      },
      "execution_count": 37,
      "outputs": [
        {
          "output_type": "stream",
          "name": "stdout",
          "text": [
            "Hello World\n",
            "My name is Kinza\n",
            "I am a student of Computer Science \n"
          ]
        }
      ]
    },
    {
      "cell_type": "markdown",
      "source": [
        "# **Variable**"
      ],
      "metadata": {
        "id": "hPCAdE2Fo5zY"
      }
    },
    {
      "cell_type": "code",
      "source": [
        "y = \"Hello World\" # string variable\n",
        "print(x)\n",
        "\n",
        "# Integer variable\n",
        "x = 2\n",
        "print(y)\n",
        "\n",
        "x = 3*2\n",
        "print(x)"
      ],
      "metadata": {
        "colab": {
          "base_uri": "https://localhost:8080/"
        },
        "id": "3Wh9DOjVnMHM",
        "outputId": "a1659963-d15b-40ea-8100-8e7937665f1d"
      },
      "execution_count": 39,
      "outputs": [
        {
          "output_type": "stream",
          "name": "stdout",
          "text": [
            "6\n",
            "Hello World\n",
            "6\n"
          ]
        }
      ]
    },
    {
      "cell_type": "code",
      "source": [
        "#Type of Variable\n",
        "print(type(x))\n",
        "\n",
        "print(type(y))"
      ],
      "metadata": {
        "colab": {
          "base_uri": "https://localhost:8080/"
        },
        "id": "zeI0eUAmqPr0",
        "outputId": "67557535-4dc1-455d-85af-af127791983f"
      },
      "execution_count": 40,
      "outputs": [
        {
          "output_type": "stream",
          "name": "stdout",
          "text": [
            "<class 'int'>\n",
            "<class 'str'>\n"
          ]
        }
      ]
    },
    {
      "cell_type": "markdown",
      "source": [
        "### **Rule to assign variable:**\n",
        "1.Variable should contain letters, number & underscore\n",
        "2. Do not start with numbers\n",
        "3. Spaces are not allowed\n",
        "4. Do not use keywords used in function\n",
        "5. Short and descriptive\n",
        "6. Case senstivity(Lowercase, uppercase letters)lower case letters should be used\n",
        "\n"
      ],
      "metadata": {
        "id": "D5JZLcTSrAz0"
      }
    },
    {
      "cell_type": "code",
      "source": [
        "#Input functions\n",
        "fruit_basket =input(\"What is your favourite fruit? \")\n",
        "print(fruit_basket)"
      ],
      "metadata": {
        "colab": {
          "base_uri": "https://localhost:8080/"
        },
        "id": "byWRc7aCrAS6",
        "outputId": "cb6c9445-b845-43e3-d26c-1335dadfbf50"
      },
      "execution_count": 42,
      "outputs": [
        {
          "output_type": "stream",
          "name": "stdout",
          "text": [
            "What is your favourite fruit? Mango\n",
            "Mango\n"
          ]
        }
      ]
    },
    {
      "cell_type": "code",
      "source": [
        "#input function of 2nd stage\n",
        "name = input(\"What is your name? \")\n",
        "greetings = \"Hello!\"\n",
        "print(greetings, name)\n"
      ],
      "metadata": {
        "colab": {
          "base_uri": "https://localhost:8080/"
        },
        "id": "0ytfcR3-6rbI",
        "outputId": "ff99bdbc-4a31-4360-ecb5-2911a3bf5c5f"
      },
      "execution_count": 43,
      "outputs": [
        {
          "output_type": "stream",
          "name": "stdout",
          "text": [
            "What is your name? Kinza\n",
            "Hello! Kinza\n"
          ]
        }
      ]
    },
    {
      "cell_type": "code",
      "source": [
        "#another way to do the same thing\n",
        "name = input(\"What is your name? \")\n",
        "print(\"Hello!\", name)"
      ],
      "metadata": {
        "colab": {
          "base_uri": "https://localhost:8080/"
        },
        "id": "u5Ux3TyC7Ina",
        "outputId": "6dc683e9-718d-4dc9-b799-8c0ba3f1f799"
      },
      "execution_count": 44,
      "outputs": [
        {
          "output_type": "stream",
          "name": "stdout",
          "text": [
            "What is your name? Kinza\n",
            "Hello! Kinza\n"
          ]
        }
      ]
    },
    {
      "cell_type": "code",
      "source": [
        "name = input(\"What is your name? \")\n",
        "age = input(\"How old are you? \")\n",
        "greetings = \"Hello!\"\n",
        "print(greetings, name, \", You are still young\")"
      ],
      "metadata": {
        "colab": {
          "base_uri": "https://localhost:8080/"
        },
        "id": "u-dXXsuG84cC",
        "outputId": "d23fc548-137e-4a01-8f89-d17aeabdf8a7"
      },
      "execution_count": null,
      "outputs": [
        {
          "output_type": "stream",
          "name": "stdout",
          "text": [
            "What is your name? Kinza\n",
            "How old are you? 13\n",
            "Hello! Kinza , You are still young\n"
          ]
        }
      ]
    },
    {
      "cell_type": "markdown",
      "source": [
        "# **Conditional Logic**"
      ],
      "metadata": {
        "id": "7DorDSWBI9IG"
      }
    },
    {
      "cell_type": "code",
      "source": [
        "# Logical operators are either \"True or False\", \"Yes or No\", \"0 or 1\"\n",
        "# equal to ==\n",
        "# not equal to !=\n",
        "# less than <\n",
        "# greater than >\n",
        "# less than and equal to <=\n",
        "# greater than and equal to >="
      ],
      "metadata": {
        "id": "4Ir2e_S2I7lQ"
      },
      "execution_count": 45,
      "outputs": []
    },
    {
      "cell_type": "markdown",
      "source": [
        "![python-conditional-statements.jpg](data:image/jpeg;base64,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)"
      ],
      "metadata": {
        "id": "uULe3CH4Ji6k"
      }
    },
    {
      "cell_type": "code",
      "source": [
        "3==3"
      ],
      "metadata": {
        "colab": {
          "base_uri": "https://localhost:8080/"
        },
        "id": "tFEGtm5cMF_-",
        "outputId": "2a424ba9-958a-4dd4-c384-8060ca682391"
      },
      "execution_count": 46,
      "outputs": [
        {
          "output_type": "execute_result",
          "data": {
            "text/plain": [
              "True"
            ]
          },
          "metadata": {},
          "execution_count": 46
        }
      ]
    },
    {
      "cell_type": "code",
      "source": [
        "4!=4"
      ],
      "metadata": {
        "colab": {
          "base_uri": "https://localhost:8080/"
        },
        "id": "DUQgePNXMF0_",
        "outputId": "10f16f21-3ee4-42be-f783-aca84443d127"
      },
      "execution_count": 47,
      "outputs": [
        {
          "output_type": "execute_result",
          "data": {
            "text/plain": [
              "False"
            ]
          },
          "metadata": {},
          "execution_count": 47
        }
      ]
    },
    {
      "cell_type": "code",
      "source": [
        "6 < 7"
      ],
      "metadata": {
        "colab": {
          "base_uri": "https://localhost:8080/"
        },
        "id": "zHHEDtVZMGDH",
        "outputId": "fa1863f4-0dc2-4174-def6-4a68ad4d63d9"
      },
      "execution_count": 48,
      "outputs": [
        {
          "output_type": "execute_result",
          "data": {
            "text/plain": [
              "True"
            ]
          },
          "metadata": {},
          "execution_count": 48
        }
      ]
    },
    {
      "cell_type": "code",
      "source": [
        "5 > 2"
      ],
      "metadata": {
        "colab": {
          "base_uri": "https://localhost:8080/"
        },
        "id": "Dl2Q7PXyMGGk",
        "outputId": "a83ccdfb-de4e-479c-8d68-49c29ac4bdcb"
      },
      "execution_count": 49,
      "outputs": [
        {
          "output_type": "execute_result",
          "data": {
            "text/plain": [
              "True"
            ]
          },
          "metadata": {},
          "execution_count": 49
        }
      ]
    },
    {
      "cell_type": "code",
      "source": [
        "6 <= 5"
      ],
      "metadata": {
        "colab": {
          "base_uri": "https://localhost:8080/"
        },
        "id": "0IjKZYSTMsiL",
        "outputId": "4c1646d2-b002-43e3-cee2-5be112a1c219"
      },
      "execution_count": 50,
      "outputs": [
        {
          "output_type": "execute_result",
          "data": {
            "text/plain": [
              "False"
            ]
          },
          "metadata": {},
          "execution_count": 50
        }
      ]
    },
    {
      "cell_type": "code",
      "source": [
        "6 >= 5"
      ],
      "metadata": {
        "colab": {
          "base_uri": "https://localhost:8080/"
        },
        "id": "1yWnJCV3M0xt",
        "outputId": "52a308e8-9b86-4ff3-d2d5-e2e90471ffaa"
      },
      "execution_count": 51,
      "outputs": [
        {
          "output_type": "execute_result",
          "data": {
            "text/plain": [
              "True"
            ]
          },
          "metadata": {},
          "execution_count": 51
        }
      ]
    },
    {
      "cell_type": "code",
      "source": [
        "# Application of logical operators\n",
        "my_age = 4\n",
        "age_at_school = 5\n",
        "print(my_age == age_at_school)"
      ],
      "metadata": {
        "colab": {
          "base_uri": "https://localhost:8080/"
        },
        "id": "efeUI2jSN1QU",
        "outputId": "c4c18e5d-ff51-4390-ce17-75fd38ff756a"
      },
      "execution_count": 52,
      "outputs": [
        {
          "output_type": "stream",
          "name": "stdout",
          "text": [
            "False\n"
          ]
        }
      ]
    },
    {
      "cell_type": "code",
      "source": [
        "#input function and logical operators\n",
        "age_at_school = 5\n",
        "my_age = input(\"How old are you? \") #input functions\n",
        "my_age = int(my_age)\n",
        "print(type(my_age))\n",
        "print(my_age == age_at_school)#Logical operator"
      ],
      "metadata": {
        "colab": {
          "base_uri": "https://localhost:8080/"
        },
        "id": "kcp-LzMsNF21",
        "outputId": "39f0a23d-cf50-43b2-c968-0f92fee049b0"
      },
      "execution_count": 53,
      "outputs": [
        {
          "output_type": "stream",
          "name": "stdout",
          "text": [
            "How old are you? 2\n",
            "<class 'int'>\n",
            "False\n"
          ]
        }
      ]
    },
    {
      "cell_type": "markdown",
      "source": [
        "# **Type Conversion**"
      ],
      "metadata": {
        "id": "0WdIbr1Dd7Lv"
      }
    },
    {
      "cell_type": "code",
      "source": [
        "x = 10 #integer\n",
        "y = 10.2 #float\n",
        "z = \"Hello\" #string\n",
        "#implicit type conversion\n",
        "x = x + y\n",
        "print(x, \"Type of x is: \", type(x))"
      ],
      "metadata": {
        "id": "5WadsJDQN1XJ",
        "colab": {
          "base_uri": "https://localhost:8080/"
        },
        "outputId": "b3b7cca8-9209-4a46-8941-01a90ccc4df7"
      },
      "execution_count": 54,
      "outputs": [
        {
          "output_type": "stream",
          "name": "stdout",
          "text": [
            "20.2 Type of x is:  <class 'float'>\n"
          ]
        }
      ]
    },
    {
      "cell_type": "code",
      "source": [
        "#explicit type conversion\n",
        "age = input(\"What is your age? \")\n",
        "age = int(age)\n",
        "print(age, type(int(age)))\n"
      ],
      "metadata": {
        "id": "kb1fKk2mgeyW",
        "outputId": "e34fe9dd-7c4d-4bf4-d1c2-658c31d21e05",
        "colab": {
          "base_uri": "https://localhost:8080/"
        }
      },
      "execution_count": 56,
      "outputs": [
        {
          "output_type": "stream",
          "name": "stdout",
          "text": [
            "What is your age? 13\n",
            "13 <class 'int'>\n"
          ]
        }
      ]
    },
    {
      "cell_type": "code",
      "source": [
        "#name\n",
        "name=input(\"What is your name? \")\n",
        "print(name, type(str(name)))"
      ],
      "metadata": {
        "colab": {
          "base_uri": "https://localhost:8080/"
        },
        "id": "VvyUWRaDRpEi",
        "outputId": "9c3ee2bf-34e0-4962-e439-32102e256580"
      },
      "execution_count": 57,
      "outputs": [
        {
          "output_type": "stream",
          "name": "stdout",
          "text": [
            "What is your name? Kinza\n",
            "Kinza <class 'str'>\n"
          ]
        }
      ]
    },
    {
      "cell_type": "markdown",
      "source": [
        "\n",
        "#**If** **else** **elif**\n"
      ],
      "metadata": {
        "id": "Pt1fnRCLSyLh"
      }
    },
    {
      "cell_type": "code",
      "source": [
        "required_age_at_school = 5\n",
        "my_age = 2\n",
        "\n",
        "if my_age == required_age_at_school:\n",
        "    print(\"you can join the school\")\n",
        "elif my_age > required_age_at_school:\n",
        "    print(\"you should join higher secondary school\")\n",
        "elif my_age <= 2:\n",
        "    print(\"you should take care of yourself\")\n",
        "else:\n",
        "  print(\"You can not go to school\")"
      ],
      "metadata": {
        "colab": {
          "base_uri": "https://localhost:8080/"
        },
        "id": "Q2g_sOoCSveq",
        "outputId": "d2e49112-9f21-4382-80d8-e33e8847f938"
      },
      "execution_count": 58,
      "outputs": [
        {
          "output_type": "stream",
          "name": "stdout",
          "text": [
            "you should take care of yourself\n"
          ]
        }
      ]
    },
    {
      "cell_type": "markdown",
      "source": [
        "# **Function**"
      ],
      "metadata": {
        "id": "wXJHwrASXQep"
      }
    },
    {
      "cell_type": "code",
      "source": [
        "print(\"Hello, World\")\n",
        "print(\"Hello, World\")\n",
        "print(\"Hello, World\")\n",
        "print(\"Hello, World\")\n",
        "print(\"Hello, World\")"
      ],
      "metadata": {
        "colab": {
          "base_uri": "https://localhost:8080/"
        },
        "id": "Zd2yBNhlHZxj",
        "outputId": "8f65530d-23b3-4639-b4e2-46336f982270"
      },
      "execution_count": 60,
      "outputs": [
        {
          "output_type": "stream",
          "name": "stdout",
          "text": [
            "Hello, World\n",
            "Hello, World\n",
            "Hello, World\n",
            "Hello, World\n",
            "Hello, World\n"
          ]
        }
      ]
    },
    {
      "cell_type": "code",
      "source": [
        "#definig a function\n",
        "def printing():\n",
        "    print(\"Hello, World\")\n",
        "    print(\"Hello, World\")\n",
        "    print(\"Hello, World\")\n",
        "    print(\"Hello, World\")\n",
        "    print(\"Hello, World\")\n",
        "printing()"
      ],
      "metadata": {
        "colab": {
          "base_uri": "https://localhost:8080/"
        },
        "id": "0i5UvfYRsUB2",
        "outputId": "44799595-2685-40f2-c7f4-5752ae37adae"
      },
      "execution_count": 2,
      "outputs": [
        {
          "output_type": "stream",
          "name": "stdout",
          "text": [
            "Hello, World\n",
            "Hello, World\n",
            "Hello, World\n",
            "Hello, World\n",
            "Hello, World\n"
          ]
        }
      ]
    },
    {
      "cell_type": "code",
      "source": [
        "def printing():\n",
        "  text = \"Hello, World\"\n",
        "  print(text)\n",
        "  print(text)\n",
        "  print(text)\n",
        "  print(text)\n",
        "  print(text)\n",
        "printing()"
      ],
      "metadata": {
        "colab": {
          "base_uri": "https://localhost:8080/"
        },
        "id": "_3zQ4KE-twiH",
        "outputId": "da60566d-9329-4748-e224-9cd62a1ecb00"
      },
      "execution_count": 3,
      "outputs": [
        {
          "output_type": "stream",
          "name": "stdout",
          "text": [
            "Hello, World\n",
            "Hello, World\n",
            "Hello, World\n",
            "Hello, World\n",
            "Hello, World\n"
          ]
        }
      ]
    },
    {
      "cell_type": "code",
      "source": [
        "def printing(text):\n",
        "  print(text)\n",
        "  print(text)\n",
        "  print(text)\n",
        "  print(text)\n",
        "  print(text)\n",
        "printing(\"Hello, World\")"
      ],
      "metadata": {
        "colab": {
          "base_uri": "https://localhost:8080/"
        },
        "id": "6Khnm_snuUw7",
        "outputId": "6e4c1edb-9381-4fed-da9a-c37735785b81"
      },
      "execution_count": 4,
      "outputs": [
        {
          "output_type": "stream",
          "name": "stdout",
          "text": [
            "Hello, World\n",
            "Hello, World\n",
            "Hello, World\n",
            "Hello, World\n",
            "Hello, World\n"
          ]
        }
      ]
    },
    {
      "cell_type": "code",
      "source": [
        "#defing a function with if, elif and else statements\n",
        "def school_calculator(age):\n",
        "  if age == 5:\n",
        "    print(\"you can join the school\")\n",
        "  elif age > 5:\n",
        "    print(\"you should join higher secondary school\")\n",
        "  else:\n",
        "    print(\"You can not go to school\")\n",
        "\n",
        "school_calculator(13)"
      ],
      "metadata": {
        "colab": {
          "base_uri": "https://localhost:8080/"
        },
        "id": "ALETdWIIutWx",
        "outputId": "1ee1a55c-1131-44a9-9eb9-91b35b14fc83"
      },
      "execution_count": 16,
      "outputs": [
        {
          "output_type": "stream",
          "name": "stdout",
          "text": [
            "you should join higher secondary school\n"
          ]
        }
      ]
    },
    {
      "cell_type": "code",
      "source": [
        "# defining a function of future\n",
        "def future_age(age):\n",
        "  new_age=age+20\n",
        "  return new_age\n",
        "  print(new_age)\n",
        "\n",
        "future_age(18)\n"
      ],
      "metadata": {
        "colab": {
          "base_uri": "https://localhost:8080/"
        },
        "id": "KrAWXdAVw49L",
        "outputId": "00459b73-a13c-4d83-8518-1d887732ed2c"
      },
      "execution_count": 17,
      "outputs": [
        {
          "output_type": "execute_result",
          "data": {
            "text/plain": [
              "38"
            ]
          },
          "metadata": {},
          "execution_count": 17
        }
      ]
    },
    {
      "cell_type": "markdown",
      "source": [
        "# **Loops**"
      ],
      "metadata": {
        "id": "lH0YhXP5x4uJ"
      }
    },
    {
      "cell_type": "code",
      "source": [
        "#while loop\n",
        "x=0\n",
        "while(x<5):\n",
        "  print(x)\n",
        "  x=x+1"
      ],
      "metadata": {
        "colab": {
          "base_uri": "https://localhost:8080/"
        },
        "id": "bHookbltx8vS",
        "outputId": "46015a92-aceb-4b6f-e65a-a14ecfbb03e5"
      },
      "execution_count": 18,
      "outputs": [
        {
          "output_type": "stream",
          "name": "stdout",
          "text": [
            "0\n",
            "1\n",
            "2\n",
            "3\n",
            "4\n"
          ]
        }
      ]
    },
    {
      "cell_type": "code",
      "source": [
        "#for loop\n",
        "for x in range(5,10):\n",
        "  print(x)"
      ],
      "metadata": {
        "colab": {
          "base_uri": "https://localhost:8080/"
        },
        "id": "p74ZRK3syntf",
        "outputId": "c393dba3-db2f-4336-d0e2-d4a4facad10f"
      },
      "execution_count": 19,
      "outputs": [
        {
          "output_type": "stream",
          "name": "stdout",
          "text": [
            "5\n",
            "6\n",
            "7\n",
            "8\n",
            "9\n"
          ]
        }
      ]
    },
    {
      "cell_type": "code",
      "source": [
        "# array\n",
        "days = [\"Mon\", \"Tue\", \"Wed\", \"Thu\", \"Fri\", \"Sat\", \"Sun\"]\n",
        "for d in days:\n",
        "  if(d==\"Fri\"):break\n",
        "  print(d)"
      ],
      "metadata": {
        "colab": {
          "base_uri": "https://localhost:8080/"
        },
        "id": "nG1EMLNhzCVQ",
        "outputId": "13c08a45-cd67-49ae-abcc-abb6b6ffc1f3"
      },
      "execution_count": 23,
      "outputs": [
        {
          "output_type": "stream",
          "name": "stdout",
          "text": [
            "Mon\n",
            "Tue\n",
            "Wed\n",
            "Thu\n"
          ]
        }
      ]
    },
    {
      "cell_type": "code",
      "source": [
        "# array\n",
        "days = [\"Mon\", \"Tue\", \"Wed\", \"Thu\", \"Fri\", \"Sat\", \"Sun\"]\n",
        "for d in days:\n",
        "  if(d==\"Fri\"):continue\n",
        "  print(d)"
      ],
      "metadata": {
        "colab": {
          "base_uri": "https://localhost:8080/"
        },
        "id": "g1z2QSkz0Cb1",
        "outputId": "a124e7b2-f415-4410-b2c9-40bea44fd17b"
      },
      "execution_count": 22,
      "outputs": [
        {
          "output_type": "stream",
          "name": "stdout",
          "text": [
            "Mon\n",
            "Tue\n",
            "Wed\n",
            "Thu\n",
            "Sat\n",
            "Sun\n"
          ]
        }
      ]
    },
    {
      "cell_type": "markdown",
      "source": [
        "# **Libraies**"
      ],
      "metadata": {
        "id": "asQnfcSq0afn"
      }
    },
    {
      "cell_type": "code",
      "source": [
        "#if you want to print the value of pi\n",
        "import math\n",
        "print(\"The value of pi is \", math.pi)"
      ],
      "metadata": {
        "colab": {
          "base_uri": "https://localhost:8080/"
        },
        "id": "_jfpnsET0gW_",
        "outputId": "6e35b06c-8635-4e31-e2f0-be25fc2bd3cc"
      },
      "execution_count": 24,
      "outputs": [
        {
          "output_type": "stream",
          "name": "stdout",
          "text": [
            "The value of pi is  3.141592653589793\n"
          ]
        }
      ]
    },
    {
      "cell_type": "code",
      "source": [
        "import statistics\n",
        "x = [150,250,350,450]\n",
        "print(statistics.mean(x))\n",
        "print(statistics.median(x))\n",
        "print(statistics.mode(x))"
      ],
      "metadata": {
        "colab": {
          "base_uri": "https://localhost:8080/"
        },
        "id": "0hcDkhzu1JqH",
        "outputId": "3019b843-9e23-4388-ddaf-c0b24f8ac2df"
      },
      "execution_count": 26,
      "outputs": [
        {
          "output_type": "stream",
          "name": "stdout",
          "text": [
            "300\n",
            "300.0\n",
            "150\n"
          ]
        }
      ]
    },
    {
      "cell_type": "markdown",
      "source": [
        "# **Trouble_Shooting**"
      ],
      "metadata": {
        "id": "ZtU83vuG1opa"
      }
    },
    {
      "cell_type": "code",
      "source": [
        "print(Hello, World)"
      ],
      "metadata": {
        "colab": {
          "base_uri": "https://localhost:8080/",
          "height": 148
        },
        "id": "JJe-zs-0DaAo",
        "outputId": "29a51263-62c8-4f4b-a34f-bf9a60584d40"
      },
      "execution_count": 27,
      "outputs": [
        {
          "output_type": "error",
          "ename": "NameError",
          "evalue": "name 'Hello' is not defined",
          "traceback": [
            "\u001b[0;31m---------------------------------------------------------------------------\u001b[0m",
            "\u001b[0;31mNameError\u001b[0m                                 Traceback (most recent call last)",
            "\u001b[0;32m<ipython-input-27-7fbed5fc27f5>\u001b[0m in \u001b[0;36m<cell line: 1>\u001b[0;34m()\u001b[0m\n\u001b[0;32m----> 1\u001b[0;31m \u001b[0mprint\u001b[0m\u001b[0;34m(\u001b[0m\u001b[0mHello\u001b[0m\u001b[0;34m,\u001b[0m \u001b[0mWorld\u001b[0m\u001b[0;34m)\u001b[0m\u001b[0;34m\u001b[0m\u001b[0;34m\u001b[0m\u001b[0m\n\u001b[0m",
            "\u001b[0;31mNameError\u001b[0m: name 'Hello' is not defined"
          ]
        }
      ]
    },
    {
      "cell_type": "code",
      "source": [
        "print(25/0)"
      ],
      "metadata": {
        "colab": {
          "base_uri": "https://localhost:8080/",
          "height": 148
        },
        "id": "bh37f8yF1WwT",
        "outputId": "f8f6dee8-4908-4052-92ac-892c8c8fd417"
      },
      "execution_count": 28,
      "outputs": [
        {
          "output_type": "error",
          "ename": "ZeroDivisionError",
          "evalue": "division by zero",
          "traceback": [
            "\u001b[0;31m---------------------------------------------------------------------------\u001b[0m",
            "\u001b[0;31mZeroDivisionError\u001b[0m                         Traceback (most recent call last)",
            "\u001b[0;32m<ipython-input-28-a08611be9ae0>\u001b[0m in \u001b[0;36m<cell line: 1>\u001b[0;34m()\u001b[0m\n\u001b[0;32m----> 1\u001b[0;31m \u001b[0mprint\u001b[0m\u001b[0;34m(\u001b[0m\u001b[0;36m25\u001b[0m\u001b[0;34m/\u001b[0m\u001b[0;36m0\u001b[0m\u001b[0;34m)\u001b[0m\u001b[0;34m\u001b[0m\u001b[0;34m\u001b[0m\u001b[0m\n\u001b[0m",
            "\u001b[0;31mZeroDivisionError\u001b[0m: division by zero"
          ]
        }
      ]
    },
    {
      "cell_type": "code",
      "source": [
        "name = \"Kinza\"\n",
        "print(\"Hello name\")"
      ],
      "metadata": {
        "colab": {
          "base_uri": "https://localhost:8080/"
        },
        "id": "WmguhnSAEV6p",
        "outputId": "99a5cba8-541b-4394-e81d-6c454fa71c1f"
      },
      "execution_count": 31,
      "outputs": [
        {
          "output_type": "stream",
          "name": "stdout",
          "text": [
            "Hello name\n"
          ]
        }
      ]
    },
    {
      "cell_type": "code",
      "source": [
        "name = \"Kinza\"\n",
        "print(\"Hello\", name)\n",
        "print(\"Hello \" + name)"
      ],
      "metadata": {
        "colab": {
          "base_uri": "https://localhost:8080/"
        },
        "id": "z4jpeShWEzpm",
        "outputId": "a36cda3f-743c-451a-bf8b-9f82948d6170"
      },
      "execution_count": 32,
      "outputs": [
        {
          "output_type": "stream",
          "name": "stdout",
          "text": [
            "Hello Kinza\n",
            "Hello Kinza\n"
          ]
        }
      ]
    }
  ]
}