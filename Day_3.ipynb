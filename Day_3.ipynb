{
  "nbformat": 4,
  "nbformat_minor": 0,
  "metadata": {
    "colab": {
      "provenance": []
    },
    "kernelspec": {
      "name": "python3",
      "display_name": "Python 3"
    },
    "language_info": {
      "name": "python"
    }
  },
  "cells": [
    {
      "cell_type": "markdown",
      "source": [
        "# **Basic data Structure in Python**\n",
        "**1. Tuple**\n",
        "\n",
        "**2. List**\n",
        "\n",
        "**3. Dictionaries**\n",
        "\n",
        "**4. Set**"
      ],
      "metadata": {
        "id": "c4hksc2ThqNX"
      }
    },
    {
      "cell_type": "markdown",
      "source": [
        "## **Tuple**"
      ],
      "metadata": {
        "id": "eKmnoZDkiNnT"
      }
    },
    {
      "cell_type": "code",
      "execution_count": 1,
      "metadata": {
        "id": "cfx5Nk0JSPkc",
        "colab": {
          "base_uri": "https://localhost:8080/"
        },
        "outputId": "8651226e-457c-400f-a558-e3037ffc0f6b"
      },
      "outputs": [
        {
          "output_type": "execute_result",
          "data": {
            "text/plain": [
              "(1, 'python', True, 2.5)"
            ]
          },
          "metadata": {},
          "execution_count": 1
        }
      ],
      "source": [
        "tup1 =(1, \"python\", True, 2.5)\n",
        "tup1"
      ]
    },
    {
      "cell_type": "code",
      "source": [
        "type(tup1)"
      ],
      "metadata": {
        "colab": {
          "base_uri": "https://localhost:8080/"
        },
        "id": "twZhNC_oidbv",
        "outputId": "7f875db8-f195-4f59-bd99-6fa4808c73b3"
      },
      "execution_count": 2,
      "outputs": [
        {
          "output_type": "execute_result",
          "data": {
            "text/plain": [
              "tuple"
            ]
          },
          "metadata": {},
          "execution_count": 2
        }
      ]
    },
    {
      "cell_type": "markdown",
      "source": [
        "### **Indexing in tuple**"
      ],
      "metadata": {
        "id": "tNwdx1fDigQc"
      }
    },
    {
      "cell_type": "code",
      "source": [
        "tup1[0]"
      ],
      "metadata": {
        "colab": {
          "base_uri": "https://localhost:8080/"
        },
        "id": "ftgfcZmjipPG",
        "outputId": "9d998d55-2fa6-4edc-ec0a-8272daab4337"
      },
      "execution_count": 6,
      "outputs": [
        {
          "output_type": "execute_result",
          "data": {
            "text/plain": [
              "1"
            ]
          },
          "metadata": {},
          "execution_count": 6
        }
      ]
    },
    {
      "cell_type": "code",
      "source": [
        "tup1[2]"
      ],
      "metadata": {
        "colab": {
          "base_uri": "https://localhost:8080/"
        },
        "id": "R6hWeNn0iweD",
        "outputId": "1c52183e-a51b-47c8-d094-b874d0c4771a"
      },
      "execution_count": 11,
      "outputs": [
        {
          "output_type": "execute_result",
          "data": {
            "text/plain": [
              "True"
            ]
          },
          "metadata": {},
          "execution_count": 11
        }
      ]
    },
    {
      "cell_type": "code",
      "source": [
        "#last element is exclusive\n",
        "tup1[0:3]"
      ],
      "metadata": {
        "colab": {
          "base_uri": "https://localhost:8080/"
        },
        "id": "HYV2UEg1i0FE",
        "outputId": "5742cffe-7f95-4b90-ba39-8c6ffb435787"
      },
      "execution_count": 9,
      "outputs": [
        {
          "output_type": "execute_result",
          "data": {
            "text/plain": [
              "(1, 'python', True)"
            ]
          },
          "metadata": {},
          "execution_count": 9
        }
      ]
    },
    {
      "cell_type": "code",
      "source": [
        "#count of elements in tuple\n",
        "len(tup1)"
      ],
      "metadata": {
        "colab": {
          "base_uri": "https://localhost:8080/"
        },
        "id": "chLMhjIljKuE",
        "outputId": "ca761533-3b0c-4c79-e181-ba5c1e1d9868"
      },
      "execution_count": 12,
      "outputs": [
        {
          "output_type": "execute_result",
          "data": {
            "text/plain": [
              "4"
            ]
          },
          "metadata": {},
          "execution_count": 12
        }
      ]
    },
    {
      "cell_type": "code",
      "source": [
        "tup2 = 2, \"Hello world\", 2.4, False\n",
        "tup2"
      ],
      "metadata": {
        "colab": {
          "base_uri": "https://localhost:8080/"
        },
        "id": "nGF5w34djRNG",
        "outputId": "0239a7a2-a255-4d67-a4e7-69b1b467cb0b"
      },
      "execution_count": 14,
      "outputs": [
        {
          "output_type": "execute_result",
          "data": {
            "text/plain": [
              "(2, 'Hello world', 2.4, False)"
            ]
          },
          "metadata": {},
          "execution_count": 14
        }
      ]
    },
    {
      "cell_type": "code",
      "source": [
        "# concatinate (to add two tuple or > 2)\n",
        "tup1 + tup2"
      ],
      "metadata": {
        "colab": {
          "base_uri": "https://localhost:8080/"
        },
        "id": "E-WBk4QcjewJ",
        "outputId": "62b04ab1-dc08-416e-e128-8ae358304b72"
      },
      "execution_count": 22,
      "outputs": [
        {
          "output_type": "execute_result",
          "data": {
            "text/plain": [
              "(1, 'python', True, 2.5, 2, 'Hello world', 2.4, False)"
            ]
          },
          "metadata": {},
          "execution_count": 22
        }
      ]
    },
    {
      "cell_type": "code",
      "source": [
        "#concatinate + repeat\n",
        "tup1*2 + tup2"
      ],
      "metadata": {
        "colab": {
          "base_uri": "https://localhost:8080/"
        },
        "id": "8qCht5Y0jisY",
        "outputId": "ab27ae19-3f07-4ea0-fced-4467dc76216b"
      },
      "execution_count": 16,
      "outputs": [
        {
          "output_type": "execute_result",
          "data": {
            "text/plain": [
              "(1, 'python', True, 2.5, 1, 'python', True, 2.5, 2, 'Hello world', 2.4, False)"
            ]
          },
          "metadata": {},
          "execution_count": 16
        }
      ]
    },
    {
      "cell_type": "code",
      "source": [
        "tup3 = (20, 50, 30, 60, 50)\n",
        "tup3"
      ],
      "metadata": {
        "colab": {
          "base_uri": "https://localhost:8080/"
        },
        "id": "oJXxGtg5jrbk",
        "outputId": "644ff677-1c11-46b2-9cb5-531ad42040d7"
      },
      "execution_count": 17,
      "outputs": [
        {
          "output_type": "execute_result",
          "data": {
            "text/plain": [
              "(20, 50, 30, 60, 50)"
            ]
          },
          "metadata": {},
          "execution_count": 17
        }
      ]
    },
    {
      "cell_type": "code",
      "source": [
        "#minium\n",
        "min(tup3)"
      ],
      "metadata": {
        "colab": {
          "base_uri": "https://localhost:8080/"
        },
        "id": "pb1uzcuDjyBa",
        "outputId": "5d892289-72be-48fd-f6eb-e03bd8bd8f07"
      },
      "execution_count": 19,
      "outputs": [
        {
          "output_type": "execute_result",
          "data": {
            "text/plain": [
              "20"
            ]
          },
          "metadata": {},
          "execution_count": 19
        }
      ]
    },
    {
      "cell_type": "code",
      "source": [
        "# maximum\n",
        "max(tup3)"
      ],
      "metadata": {
        "colab": {
          "base_uri": "https://localhost:8080/"
        },
        "id": "V8Yxmuhlj8iO",
        "outputId": "ec5bfdd3-046a-4839-e7ca-4849b891424e"
      },
      "execution_count": 21,
      "outputs": [
        {
          "output_type": "execute_result",
          "data": {
            "text/plain": [
              "60"
            ]
          },
          "metadata": {},
          "execution_count": 21
        }
      ]
    },
    {
      "cell_type": "code",
      "source": [
        "tup3*2"
      ],
      "metadata": {
        "colab": {
          "base_uri": "https://localhost:8080/"
        },
        "id": "9vtK-11hk3hf",
        "outputId": "452b6633-fa10-4307-c3f9-028002f59e7b"
      },
      "execution_count": 23,
      "outputs": [
        {
          "output_type": "execute_result",
          "data": {
            "text/plain": [
              "(20, 50, 30, 60, 50, 20, 50, 30, 60, 50)"
            ]
          },
          "metadata": {},
          "execution_count": 23
        }
      ]
    },
    {
      "cell_type": "markdown",
      "source": [
        "## **List**\n",
        "- ordered collection of elements\n",
        "- enclosed in [] Square bracket\n",
        "- Mutateable, you can change the values"
      ],
      "metadata": {
        "id": "9mQp8Y5XlKaX"
      }
    },
    {
      "cell_type": "code",
      "source": [
        "list1 = [2, \"Hello World\", False]\n",
        "list1"
      ],
      "metadata": {
        "colab": {
          "base_uri": "https://localhost:8080/"
        },
        "id": "IAQwMR3ok74H",
        "outputId": "708f2271-832c-478a-ac59-06386b1434bc"
      },
      "execution_count": 24,
      "outputs": [
        {
          "output_type": "execute_result",
          "data": {
            "text/plain": [
              "[2, 'Hello World', False]"
            ]
          },
          "metadata": {},
          "execution_count": 24
        }
      ]
    },
    {
      "cell_type": "code",
      "source": [
        "type(list1)"
      ],
      "metadata": {
        "colab": {
          "base_uri": "https://localhost:8080/"
        },
        "id": "qznB7mGGlqFs",
        "outputId": "28ee5ddf-65a1-48d6-b9ed-d06fe812f61d"
      },
      "execution_count": 25,
      "outputs": [
        {
          "output_type": "execute_result",
          "data": {
            "text/plain": [
              "list"
            ]
          },
          "metadata": {},
          "execution_count": 25
        }
      ]
    },
    {
      "cell_type": "code",
      "source": [
        "len(list1)"
      ],
      "metadata": {
        "colab": {
          "base_uri": "https://localhost:8080/"
        },
        "id": "b1kGu3MultYB",
        "outputId": "1f88d7bd-0714-4db4-daab-aa349cca25a3"
      },
      "execution_count": 26,
      "outputs": [
        {
          "output_type": "execute_result",
          "data": {
            "text/plain": [
              "3"
            ]
          },
          "metadata": {},
          "execution_count": 26
        }
      ]
    },
    {
      "cell_type": "code",
      "source": [
        "list[2]"
      ],
      "metadata": {
        "colab": {
          "base_uri": "https://localhost:8080/"
        },
        "id": "NyJcSOENlwwl",
        "outputId": "e00b363a-a86c-4c89-8143-646e2cfa70d6"
      },
      "execution_count": 27,
      "outputs": [
        {
          "output_type": "execute_result",
          "data": {
            "text/plain": [
              "list[2]"
            ]
          },
          "metadata": {},
          "execution_count": 27
        }
      ]
    },
    {
      "cell_type": "code",
      "source": [
        "list2 = [3, 6, \"Hello\", \"World\", 348, 23.5, True]\n",
        "list2"
      ],
      "metadata": {
        "colab": {
          "base_uri": "https://localhost:8080/"
        },
        "id": "SomF0FmOl1Fv",
        "outputId": "7d0712a1-985a-42b2-f9dc-a648307e2f97"
      },
      "execution_count": 28,
      "outputs": [
        {
          "output_type": "execute_result",
          "data": {
            "text/plain": [
              "[3, 6, 'Hello', 'World', 348, 23.5, True]"
            ]
          },
          "metadata": {},
          "execution_count": 28
        }
      ]
    },
    {
      "cell_type": "code",
      "source": [
        "list1 + list2"
      ],
      "metadata": {
        "colab": {
          "base_uri": "https://localhost:8080/"
        },
        "id": "_nM5B_ekmkul",
        "outputId": "53e14406-7e62-4b5b-afd7-ff5af26f8209"
      },
      "execution_count": 29,
      "outputs": [
        {
          "output_type": "execute_result",
          "data": {
            "text/plain": [
              "[2, 'Hello World', False, 3, 6, 'Hello', 'World', 348, 23.5, True]"
            ]
          },
          "metadata": {},
          "execution_count": 29
        }
      ]
    },
    {
      "cell_type": "code",
      "source": [
        "list1 *2"
      ],
      "metadata": {
        "colab": {
          "base_uri": "https://localhost:8080/"
        },
        "id": "92XmzQtwmtnW",
        "outputId": "79b2dfea-ec0c-4fb7-d3ff-d96fa8310bed"
      },
      "execution_count": 30,
      "outputs": [
        {
          "output_type": "execute_result",
          "data": {
            "text/plain": [
              "[2, 'Hello World', False, 2, 'Hello World', False]"
            ]
          },
          "metadata": {},
          "execution_count": 30
        }
      ]
    },
    {
      "cell_type": "code",
      "source": [
        "list1.reverse()\n",
        "list1"
      ],
      "metadata": {
        "colab": {
          "base_uri": "https://localhost:8080/"
        },
        "id": "fybTvJxIm9Fv",
        "outputId": "cc63374a-6cb8-4378-8177-fd5ecbd4426d"
      },
      "execution_count": 32,
      "outputs": [
        {
          "output_type": "execute_result",
          "data": {
            "text/plain": [
              "[2, 'Hello World', False]"
            ]
          },
          "metadata": {},
          "execution_count": 32
        }
      ]
    },
    {
      "cell_type": "code",
      "source": [
        "list1.append(\"Hello World!\")\n",
        "list1"
      ],
      "metadata": {
        "colab": {
          "base_uri": "https://localhost:8080/"
        },
        "id": "d0JJ1-PpoMNd",
        "outputId": "7142d9ba-11d2-4ddc-afa3-ceb2952d2b8e"
      },
      "execution_count": 34,
      "outputs": [
        {
          "output_type": "execute_result",
          "data": {
            "text/plain": [
              "[2, 'Hello World', False, 'Hello World!']"
            ]
          },
          "metadata": {},
          "execution_count": 34
        }
      ]
    },
    {
      "cell_type": "code",
      "source": [
        "list3 = [20, 33, 35, 0, 40, 30, 80]\n",
        "list3"
      ],
      "metadata": {
        "colab": {
          "base_uri": "https://localhost:8080/"
        },
        "id": "kZDNdk0Bohq5",
        "outputId": "8a11f845-c2c3-4af3-ef5c-77de2d2c2253"
      },
      "execution_count": 39,
      "outputs": [
        {
          "output_type": "execute_result",
          "data": {
            "text/plain": [
              "[20, 33, 35, 0, 40, 30, 80]"
            ]
          },
          "metadata": {},
          "execution_count": 39
        }
      ]
    },
    {
      "cell_type": "code",
      "source": [
        "len(list3)"
      ],
      "metadata": {
        "colab": {
          "base_uri": "https://localhost:8080/"
        },
        "id": "5wnMJ7s1pine",
        "outputId": "3add16c0-49f1-4c28-83ec-438d62ab15e8"
      },
      "execution_count": 40,
      "outputs": [
        {
          "output_type": "execute_result",
          "data": {
            "text/plain": [
              "7"
            ]
          },
          "metadata": {},
          "execution_count": 40
        }
      ]
    },
    {
      "cell_type": "code",
      "source": [
        "# sorting a list\n",
        "list3.sort()\n",
        "list3"
      ],
      "metadata": {
        "colab": {
          "base_uri": "https://localhost:8080/"
        },
        "id": "1uWpMyrNpmvv",
        "outputId": "04f0edbd-69cd-4dce-e2eb-61e78e165557"
      },
      "execution_count": 41,
      "outputs": [
        {
          "output_type": "execute_result",
          "data": {
            "text/plain": [
              "[0, 20, 30, 33, 35, 40, 80]"
            ]
          },
          "metadata": {},
          "execution_count": 41
        }
      ]
    },
    {
      "cell_type": "code",
      "source": [
        "list3*2"
      ],
      "metadata": {
        "colab": {
          "base_uri": "https://localhost:8080/"
        },
        "id": "MyjyVDgCqBR4",
        "outputId": "00264cff-e3e9-4d7e-c055-9feaf2470c0d"
      },
      "execution_count": 42,
      "outputs": [
        {
          "output_type": "execute_result",
          "data": {
            "text/plain": [
              "[0, 20, 30, 33, 35, 40, 80, 0, 20, 30, 33, 35, 40, 80]"
            ]
          },
          "metadata": {},
          "execution_count": 42
        }
      ]
    },
    {
      "cell_type": "code",
      "source": [
        "list1 + list2"
      ],
      "metadata": {
        "colab": {
          "base_uri": "https://localhost:8080/"
        },
        "id": "g1t8QH75qSfI",
        "outputId": "57978a6b-be2c-4351-8824-054e33db9b01"
      },
      "execution_count": 43,
      "outputs": [
        {
          "output_type": "execute_result",
          "data": {
            "text/plain": [
              "[2,\n",
              " 'Hello World',\n",
              " False,\n",
              " 'Hello World!',\n",
              " 3,\n",
              " 6,\n",
              " 'Hello',\n",
              " 'World',\n",
              " 348,\n",
              " 23.5,\n",
              " True]"
            ]
          },
          "metadata": {},
          "execution_count": 43
        }
      ]
    },
    {
      "cell_type": "markdown",
      "source": [
        "## **Dictionaries**\n",
        "- An unordered collection of elements\n",
        "- key and value\n",
        "- curly braces or brackets {}\n",
        "- Mutateable/Change the values"
      ],
      "metadata": {
        "id": "LpPr9rr7qjqo"
      }
    },
    {
      "cell_type": "code",
      "source": [
        "food1 = {\"Burger\":50, \"Pizza\":100, \"Roll\":20}\n",
        "Food1"
      ],
      "metadata": {
        "colab": {
          "base_uri": "https://localhost:8080/"
        },
        "id": "oQRWtTjdqqZ9",
        "outputId": "86a82fce-294a-4edf-d2b6-4dc9f38638ef"
      },
      "execution_count": 53,
      "outputs": [
        {
          "output_type": "execute_result",
          "data": {
            "text/plain": [
              "{'Burger': 50, 'Pizza': 100, 'Roll': 20}"
            ]
          },
          "metadata": {},
          "execution_count": 53
        }
      ]
    },
    {
      "cell_type": "code",
      "source": [
        "type(food1)"
      ],
      "metadata": {
        "colab": {
          "base_uri": "https://localhost:8080/"
        },
        "id": "gnCHpxRsqh8y",
        "outputId": "20ba4f20-c0e5-45ac-bf6c-6b5cc6f4084d"
      },
      "execution_count": 54,
      "outputs": [
        {
          "output_type": "execute_result",
          "data": {
            "text/plain": [
              "dict"
            ]
          },
          "metadata": {},
          "execution_count": 54
        }
      ]
    },
    {
      "cell_type": "code",
      "source": [
        "values = food1.values()\n",
        "values"
      ],
      "metadata": {
        "colab": {
          "base_uri": "https://localhost:8080/"
        },
        "id": "8oulgPfBs4z9",
        "outputId": "f8513331-7648-4fec-8c0d-657a5031a4c7"
      },
      "execution_count": 55,
      "outputs": [
        {
          "output_type": "execute_result",
          "data": {
            "text/plain": [
              "dict_values([50, 100, 20])"
            ]
          },
          "metadata": {},
          "execution_count": 55
        }
      ]
    },
    {
      "cell_type": "code",
      "source": [
        "#adding new element\n",
        "food1[\"Fries\"]=10\n",
        "food1"
      ],
      "metadata": {
        "colab": {
          "base_uri": "https://localhost:8080/"
        },
        "id": "BYTeJ1qPt7Qd",
        "outputId": "143bd775-6bea-4dc8-e662-6ba1c150f1f7"
      },
      "execution_count": 57,
      "outputs": [
        {
          "output_type": "execute_result",
          "data": {
            "text/plain": [
              "{'Burger': 50, 'Pizza': 100, 'Roll': 20, 'Fries': 10}"
            ]
          },
          "metadata": {},
          "execution_count": 57
        }
      ]
    },
    {
      "cell_type": "code",
      "source": [
        "# update the values\n",
        "food1[\"Fries\"]=5\n",
        "food1"
      ],
      "metadata": {
        "colab": {
          "base_uri": "https://localhost:8080/"
        },
        "id": "9Pjsxx6kuUwq",
        "outputId": "5273c118-d21c-4b7f-daed-a7db467f0156"
      },
      "execution_count": 58,
      "outputs": [
        {
          "output_type": "execute_result",
          "data": {
            "text/plain": [
              "{'Burger': 50, 'Pizza': 100, 'Roll': 20, 'Fries': 5}"
            ]
          },
          "metadata": {},
          "execution_count": 58
        }
      ]
    },
    {
      "cell_type": "code",
      "source": [
        "food2 = {\"Ice cream\":50, \"Chocolates\":200, \"Sweets\":1000}\n",
        "food2"
      ],
      "metadata": {
        "colab": {
          "base_uri": "https://localhost:8080/"
        },
        "id": "454OW_kRumqo",
        "outputId": "eb6eac0d-a3d2-4bd1-cd48-304d627c9e75"
      },
      "execution_count": 59,
      "outputs": [
        {
          "output_type": "execute_result",
          "data": {
            "text/plain": [
              "{'Ice cream': 50, 'Chocolates': 200, 'Sweets': 1000}"
            ]
          },
          "metadata": {},
          "execution_count": 59
        }
      ]
    },
    {
      "cell_type": "code",
      "source": [
        "#concatinate\n",
        "food1.update(food2)\n",
        "food1"
      ],
      "metadata": {
        "colab": {
          "base_uri": "https://localhost:8080/"
        },
        "id": "w_SUxD_CvCUH",
        "outputId": "ede8e89e-31f5-49fa-e43e-c573c4e096a3"
      },
      "execution_count": 60,
      "outputs": [
        {
          "output_type": "execute_result",
          "data": {
            "text/plain": [
              "{'Burger': 50,\n",
              " 'Pizza': 100,\n",
              " 'Roll': 20,\n",
              " 'Fries': 5,\n",
              " 'Ice cream': 50,\n",
              " 'Chocolates': 200,\n",
              " 'Sweets': 1000}"
            ]
          },
          "metadata": {},
          "execution_count": 60
        }
      ]
    },
    {
      "cell_type": "markdown",
      "source": [
        "## **Set**\n",
        "- Unordered and unindexed\n",
        "- enclosed in {}\n",
        "- no duplicates allowed\n",
        "- you can change the elements(mutable)"
      ],
      "metadata": {
        "id": "BL5KslbmvRVj"
      }
    },
    {
      "cell_type": "code",
      "source": [
        "s1 = {1, 2.2, 6.6, \"Kinza\",\"Hello\", \"World\", True}\n",
        "s1"
      ],
      "metadata": {
        "colab": {
          "base_uri": "https://localhost:8080/"
        },
        "id": "UnntfTyOvyxX",
        "outputId": "9d10e4e0-c943-49e9-8390-57b744e96f2a"
      },
      "execution_count": 70,
      "outputs": [
        {
          "output_type": "execute_result",
          "data": {
            "text/plain": [
              "{1, 2.2, 6.6, 'Hello', 'Kinza', 'World'}"
            ]
          },
          "metadata": {},
          "execution_count": 70
        }
      ]
    },
    {
      "cell_type": "code",
      "source": [
        "# no duplicate allowed\n",
        "s1.add(\"Kinza\")\n",
        "s1"
      ],
      "metadata": {
        "colab": {
          "base_uri": "https://localhost:8080/"
        },
        "id": "DulSR53EwRtR",
        "outputId": "87f8cca6-5acf-4389-cdc8-6dc33f1821c5"
      },
      "execution_count": 71,
      "outputs": [
        {
          "output_type": "execute_result",
          "data": {
            "text/plain": [
              "{1, 2.2, 6.6, 'Hello', 'Kinza', 'World'}"
            ]
          },
          "metadata": {},
          "execution_count": 71
        }
      ]
    },
    {
      "cell_type": "code",
      "source": [
        "s1.remove(\"World\")\n",
        "s1"
      ],
      "metadata": {
        "colab": {
          "base_uri": "https://localhost:8080/"
        },
        "id": "Ru5KyUXYwnBF",
        "outputId": "1b9c800c-d336-4f43-c0ba-8f707d742af6"
      },
      "execution_count": 72,
      "outputs": [
        {
          "output_type": "execute_result",
          "data": {
            "text/plain": [
              "{1, 2.2, 6.6, 'Hello', 'Kinza'}"
            ]
          },
          "metadata": {},
          "execution_count": 72
        }
      ]
    },
    {
      "cell_type": "code",
      "source": [
        "s1.add(\"World!\")\n",
        "s1"
      ],
      "metadata": {
        "colab": {
          "base_uri": "https://localhost:8080/"
        },
        "id": "niyS18iQw__k",
        "outputId": "e1936ca8-4739-459a-a2ee-f776188a7377"
      },
      "execution_count": 73,
      "outputs": [
        {
          "output_type": "execute_result",
          "data": {
            "text/plain": [
              "{1, 2.2, 6.6, 'Hello', 'Kinza', 'World!'}"
            ]
          },
          "metadata": {},
          "execution_count": 73
        }
      ]
    }
  ]
}